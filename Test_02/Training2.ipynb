{
 "cells": [
  {
   "cell_type": "code",
   "execution_count": 1,
   "metadata": {
    "collapsed": true
   },
   "outputs": [],
   "source": [
    "import numpy as np\n",
    "from scipy import misc as misc\n",
    "import tensorflow as tf\n",
    "from matplotlib import pyplot as plt\n",
    "\n",
    "%matplotlib inline"
   ]
  },
  {
   "cell_type": "code",
   "execution_count": 2,
   "metadata": {
    "collapsed": true,
    "scrolled": true
   },
   "outputs": [],
   "source": [
    "tf.set_random_seed(777)\n",
    "tmp = np.load('/data1/jerry/face/Network/data2.npz')\n",
    "train_img = tmp['train_img']\n",
    "train_lab = tmp['train_lab']\n"
   ]
  },
  {
   "cell_type": "code",
   "execution_count": 3,
   "metadata": {
    "collapsed": true
   },
   "outputs": [],
   "source": [
    "new = np.zeros([232,480,480,3])\n",
    "\n",
    "new[:,128:352, 128:352, :] = train_img"
   ]
  },
  {
   "cell_type": "code",
   "execution_count": 4,
   "metadata": {
    "collapsed": true
   },
   "outputs": [],
   "source": [
    "num_classes = 2\n",
    "X = tf.placeholder(tf.float32, shape=[None, 480,480,3])\n",
    "Y = tf.placeholder(tf.float32, shape=[None, num_classes])\n",
    "keep = tf.placeholder(tf.float32)"
   ]
  },
  {
   "cell_type": "code",
   "execution_count": 5,
   "metadata": {
    "collapsed": true
   },
   "outputs": [],
   "source": [
    "weights = {\n",
    "    'wc1' : tf.get_variable('wc1', [7, 7, 3, 96], dtype=tf.float32, \n",
    "                            initializer=tf.contrib.layers.xavier_initializer()),    # 240\n",
    "    'wc2' : tf.get_variable('wc2', [5, 5, 96, 256], dtype=tf.float32, \n",
    "                            initializer=tf.contrib.layers.xavier_initializer()),   # 120\n",
    "    'wc3' : tf.get_variable('wc3', [3, 3, 256, 512], dtype=tf.float32, \n",
    "                            initializer=tf.contrib.layers.xavier_initializer()),   # 60\n",
    "    'wc4' : tf.get_variable('wc4', [3, 3, 512, 512], dtype=tf.float32, \n",
    "                            initializer=tf.contrib.layers.xavier_initializer()),  # 30\n",
    "    'wc5' : tf.get_variable('wc5', [3, 3, 512, 512], dtype=tf.float32, \n",
    "                            initializer=tf.contrib.layers.xavier_initializer()), # 15\n",
    "    'wd1' : tf.get_variable('wd1', [14*14*512, 4048], dtype=tf.float32, \n",
    "                            initializer=tf.contrib.layers.xavier_initializer()),\n",
    "    'wd2' : tf.get_variable('wd2', [4048, 4049], dtype=tf.float32, \n",
    "                            initializer=tf.contrib.layers.xavier_initializer()),\n",
    "    'wd3' : tf.get_variable('wd3', [4049, num_classes], dtype=tf.float32, \n",
    "                            initializer=tf.contrib.layers.xavier_initializer())\n",
    "}\n",
    "\n",
    "biases = {\n",
    "    'bc1' : tf.Variable(tf.zeros([96]), trainable=False, dtype=tf.float32),\n",
    "    'bc2' : tf.Variable(tf.zeros([256]), trainable=False, dtype=tf.float32),\n",
    "    'bc3' : tf.Variable(tf.zeros([512]), trainable=False, dtype=tf.float32),\n",
    "    'bc4' : tf.Variable(tf.zeros([512]), trainable=False, dtype=tf.float32),\n",
    "    'bc5' : tf.Variable(tf.zeros([512]), trainable=False, dtype=tf.float32),\n",
    "    'bd1' : tf.Variable(tf.zeros([4048]), trainable=False, dtype=tf.float32),\n",
    "    'bd2' : tf.Variable(tf.zeros([4049]), trainable=False, dtype=tf.float32),\n",
    "    'bd3' : tf.Variable(tf.zeros([num_classes]), trainable=False, dtype=tf.float32)\n",
    "}"
   ]
  },
  {
   "cell_type": "code",
   "execution_count": 6,
   "metadata": {
    "collapsed": true
   },
   "outputs": [],
   "source": [
    "def model(x, w, b, k):\n",
    "    \n",
    "    with tf.device('/gpu:0'):\n",
    "        # 480 x 480\n",
    "        conv1 = tf.nn.conv2d(x, w['wc1'], strides=[1, 1, 1, 1], padding='SAME')\n",
    "        act1 = tf.nn.relu(conv1 + b['bc1'])\n",
    "        pool1 = tf.nn.max_pool(act1, ksize=[1, 3, 3, 1], strides=[1, 3, 3, 1], padding='SAME')\n",
    "    \n",
    "        # 160 x 160\n",
    "        conv2 = tf.nn.conv2d(pool1, w['wc2'], strides=[1, 1, 1, 1], padding='SAME')\n",
    "        act2 = tf.nn.relu(conv2 + b['bc2'])\n",
    "        pool2 = tf.nn.max_pool(act2, ksize=[1, 2, 2, 1], strides=[1, 2, 2, 1], padding='SAME')\n",
    "    \n",
    "        # 80 x 80\n",
    "        conv3 = tf.nn.conv2d(pool2, w['wc3'], strides=[1, 1, 1, 1], padding='SAME')\n",
    "        act3 = tf.nn.relu(conv3 + b['bc3'])\n",
    "        pool3 = tf.nn.max_pool(act3, ksize=[1, 2, 2, 1], strides=[1, 2, 2, 1], padding='SAME')\n",
    "        \n",
    "        # 40 x 40\n",
    "        conv4 = tf.nn.conv2d(pool3, w['wc4'], strides=[1, 1, 1, 1], padding='SAME')\n",
    "        act4 = tf.nn.relu(conv4 + b['bc4'])\n",
    "    \n",
    "    with tf.device('/gpu:1'):\n",
    "        # 40 x 40\n",
    "        conv5 = tf.nn.conv2d(act4, w['wc5'], strides=[1, 1, 1, 1], padding='SAME')\n",
    "        act5 = tf.nn.relu(conv5 + b['bc5'])\n",
    "        pool5 = tf.nn.max_pool(act5, ksize=[1, 3, 3, 1], strides=[1, 3, 3, 1], padding='SAME')\n",
    "        print(pool5)\n",
    "    \n",
    "    #print(pool5.shape)\n",
    "        flat = tf.reshape(pool5, [-1, 14*14*512])\n",
    "    \n",
    "        act6 = tf.nn.relu(tf.matmul(flat, w['wd1'])+b['bd1'])\n",
    "        drop1 = tf.nn.dropout(act6, keep_prob=k)\n",
    "    \n",
    "        act7 = tf.nn.relu(tf.matmul(drop1, w['wd2'])+b['bd2'])\n",
    "        drop2 = tf.nn.dropout(act7, keep_prob=k)\n",
    "    \n",
    "        output = tf.matmul(drop2, w['wd3'])+b['bd3']\n",
    "    \n",
    "    out = {\n",
    "        'act1':act1,\n",
    "        'act2':act2,\n",
    "        'act3':act3,\n",
    "        'act4':act4,\n",
    "        'act5':act5,\n",
    "        'act6':act6,\n",
    "        'act7':act7,\n",
    "        'output':output\n",
    "        \n",
    "    }\n",
    "    \n",
    "    \n",
    "    return out\n",
    "    "
   ]
  },
  {
   "cell_type": "code",
   "execution_count": 7,
   "metadata": {},
   "outputs": [
    {
     "name": "stdout",
     "output_type": "stream",
     "text": [
      "Tensor(\"MaxPool_3:0\", shape=(?, 14, 14, 512), dtype=float32, device=/device:GPU:1)\n"
     ]
    }
   ],
   "source": [
    "pred = model(X, weights, biases, keep)"
   ]
  },
  {
   "cell_type": "code",
   "execution_count": 8,
   "metadata": {
    "collapsed": true
   },
   "outputs": [],
   "source": [
    "cost= tf.reduce_mean(tf.nn.softmax_cross_entropy_with_logits(logits=pred['output'], labels=Y))\n",
    "with tf.device('/gpu:0'):\n",
    "    train = tf.train.AdamOptimizer(0.001).minimize(cost)\n",
    "\n",
    "collect = tf.equal(tf.argmax(pred['output'], axis=1), tf.argmax(Y, axis=1))\n",
    "\n",
    "accuracy = tf.reduce_mean(tf.cast(collect, tf.float32))"
   ]
  },
  {
   "cell_type": "code",
   "execution_count": 9,
   "metadata": {
    "collapsed": true
   },
   "outputs": [],
   "source": [
    "sess = tf.Session(config=tf.ConfigProto(gpu_options=tf.GPUOptions(allow_growth=True)))\n",
    "#sess=tf.Session()\n",
    "sess.run(tf.global_variables_initializer())\n",
    "saver = tf.train.Saver()"
   ]
  },
  {
   "cell_type": "code",
   "execution_count": 10,
   "metadata": {
    "scrolled": true
   },
   "outputs": [
    {
     "name": "stdout",
     "output_type": "stream",
     "text": [
      "\n",
      "1/10\n",
      "Cost :  12025.2\n",
      "Accuracy :  0.588235\n",
      "Cost :  0.698378\n",
      "Accuracy :  0.352941\n",
      "Cost :  0.710121\n",
      "Accuracy :  0.294118\n",
      "Cost :  0.841579\n",
      "Accuracy :  0.470588\n",
      "Cost :  0.693777\n",
      "Accuracy :  0.411765\n",
      "\n",
      "2/10\n",
      "Cost :  0.693318\n",
      "Accuracy :  0.352941\n",
      "Cost :  0.693083\n",
      "Accuracy :  0.647059\n",
      "Cost :  0.693121\n",
      "Accuracy :  0.529412\n",
      "Cost :  0.693174\n",
      "Accuracy :  0.411765\n",
      "Cost :  0.693153\n",
      "Accuracy :  0.705882\n",
      "\n",
      "3/10\n",
      "Cost :  0.693162\n",
      "Accuracy :  0.470588\n",
      "Cost :  0.693142\n",
      "Accuracy :  0.647059\n",
      "Cost :  0.693147\n",
      "Accuracy :  0.588235\n",
      "Cost :  0.693145\n",
      "Accuracy :  0.588235\n",
      "Cost :  0.693147\n",
      "Accuracy :  0.588235\n",
      "\n",
      "4/10\n",
      "Cost :  0.693146\n",
      "Accuracy :  0.647059\n",
      "Cost :  0.693147\n",
      "Accuracy :  0.588235\n",
      "Cost :  0.693147\n",
      "Accuracy :  0.352941\n",
      "Cost :  0.693147\n",
      "Accuracy :  0.647059\n",
      "Cost :  0.693147\n",
      "Accuracy :  0.352941\n",
      "\n",
      "5/10\n",
      "Cost :  0.693142\n",
      "Accuracy :  0.470588\n",
      "Cost :  0.693147\n",
      "Accuracy :  0.470588\n",
      "Cost :  0.693143\n",
      "Accuracy :  0.470588\n",
      "Cost :  0.693147\n",
      "Accuracy :  0.705882\n",
      "Cost :  0.693147\n",
      "Accuracy :  0.647059\n",
      "\n",
      "6/10\n",
      "Cost :  0.693148\n",
      "Accuracy :  0.588235\n",
      "Cost :  0.693147\n",
      "Accuracy :  0.411765\n",
      "Cost :  0.693147\n",
      "Accuracy :  0.647059\n",
      "Cost :  0.69314\n",
      "Accuracy :  0.647059\n",
      "Cost :  0.693135\n",
      "Accuracy :  0.647059\n",
      "\n",
      "7/10\n",
      "Cost :  0.693147\n",
      "Accuracy :  0.470588\n",
      "Cost :  0.693109\n",
      "Accuracy :  0.411765\n",
      "Cost :  0.69313\n",
      "Accuracy :  0.411765\n",
      "Cost :  0.693155\n",
      "Accuracy :  0.470588\n",
      "Cost :  0.69312\n",
      "Accuracy :  0.529412\n",
      "\n",
      "8/10\n",
      "Cost :  0.693276\n",
      "Accuracy :  0.411765\n",
      "Cost :  0.692295\n",
      "Accuracy :  0.529412\n",
      "Cost :  0.689018\n",
      "Accuracy :  0.529412\n",
      "Cost :  0.693146\n",
      "Accuracy :  0.470588\n",
      "Cost :  0.693143\n",
      "Accuracy :  0.470588\n",
      "\n",
      "9/10\n",
      "Cost :  0.693155\n",
      "Accuracy :  0.411765\n",
      "Cost :  0.693147\n",
      "Accuracy :  0.705882\n",
      "Cost :  0.693131\n",
      "Accuracy :  0.647059\n",
      "Cost :  0.69315\n",
      "Accuracy :  0.411765\n",
      "Cost :  0.693147\n",
      "Accuracy :  0.294118\n",
      "\n",
      "10/10\n",
      "Cost :  0.693148\n",
      "Accuracy :  0.470588\n",
      "Cost :  0.693147\n",
      "Accuracy :  0.294118\n",
      "Cost :  0.693153\n",
      "Accuracy :  0.411765\n",
      "Cost :  0.693148\n",
      "Accuracy :  0.529412\n",
      "Cost :  0.693138\n",
      "Accuracy :  0.647059\n",
      "\n",
      " Training Done!\n"
     ]
    }
   ],
   "source": [
    "epochs = 10\n",
    "batch = 5\n",
    "\n",
    "\n",
    "\n",
    "for epoch in range(epochs):\n",
    "    \n",
    "    total_batch = int(len(new)/batch)\n",
    "    \n",
    "    print(\"\\n{0}/{1}\".format(epoch+1, epochs))\n",
    "    \n",
    "    for i in range(total_batch):\n",
    "        \n",
    "        batch_idx = np.random.choice(len(new), batch, replace=False)\n",
    "        \n",
    "        batch_x = new[batch_idx]\n",
    "        \n",
    "        batch_y = train_lab[batch_idx]\n",
    "        \n",
    "        sess.run(train, feed_dict={X:batch_x, Y:batch_y, keep:0.7})\n",
    "        \n",
    "        if i%10 ==0:\n",
    "            \n",
    "            test_idx = np.random.choice(len(new), 17, replace=False)\n",
    "            \n",
    "            print(\"Cost : \", sess.run(cost, feed_dict={X:new[test_idx], Y:train_lab[test_idx], keep:1.}))\n",
    "            \n",
    "            print(\"Accuracy : \", sess.run(accuracy, feed_dict={X:new[test_idx], Y:train_lab[test_idx], keep:1.}))\n",
    "            \n",
    "#saver.save(sess, './checkpoint/')        \n",
    "print(\"\\n Training Done!\")"
   ]
  },
  {
   "cell_type": "code",
   "execution_count": null,
   "metadata": {
    "collapsed": true
   },
   "outputs": [],
   "source": []
  }
 ],
 "metadata": {
  "kernelspec": {
   "display_name": "Python 3",
   "language": "python",
   "name": "python3"
  },
  "language_info": {
   "codemirror_mode": {
    "name": "ipython",
    "version": 3
   },
   "file_extension": ".py",
   "mimetype": "text/x-python",
   "name": "python",
   "nbconvert_exporter": "python",
   "pygments_lexer": "ipython3",
   "version": "3.5.2"
  }
 },
 "nbformat": 4,
 "nbformat_minor": 2
}
