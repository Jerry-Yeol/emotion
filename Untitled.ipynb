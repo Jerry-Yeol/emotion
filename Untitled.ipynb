{
 "cells": [
  {
   "cell_type": "code",
   "execution_count": null,
   "metadata": {},
   "outputs": [],
   "source": [
    "import numpy as np\n",
    "import tensorflow as tf"
   ]
  },
  {
   "cell_type": "code",
   "execution_count": null,
   "metadata": {},
   "outputs": [],
   "source": [
    "a = np.array([[1,1,8,8],[2,2,9,9]])\n",
    "\n",
    "b = np.array([[3,3,10,10], [3,3,8,8]])\n"
   ]
  },
  {
   "cell_type": "code",
   "execution_count": null,
   "metadata": {},
   "outputs": [],
   "source": [
    "def bbox_overlap_iou(bboxes1, bboxes2):\n",
    "\n",
    "\n",
    "\n",
    "    x11, y11, x12, y12 = tf.split(bboxes1, 4, axis=1)\n",
    "\n",
    "    x21, y21, x22, y22 = tf.split(bboxes2, 4, axis=1)\n",
    "\n",
    "\n",
    "\n",
    "    xI1 = tf.maximum(x11, x21)\n",
    "\n",
    "    yI1 = tf.maximum(y11, y21)\n",
    "\n",
    "\n",
    "\n",
    "    xI2 = tf.minimum(x11+x12, x21+x22)\n",
    "\n",
    "    yI2 = tf.minimum(y11+y12, y21+y22)\n",
    "\n",
    "\n",
    "\n",
    "    inter_area = (xI2 - xI1) * (yI2 - yI1)\n",
    "\n",
    "\n",
    "\n",
    "    bboxes1_area = x12 * y12\n",
    "\n",
    "    bboxes2_area = x22 * y22\n",
    "\n",
    "\n",
    "\n",
    "    union = bboxes1_area + bboxes2_area - inter_area\n",
    "\n",
    "    inter_area = tf.cast(inter_area, tf.float32)\n",
    "    union = tf.cast(union, tf.float32) + 1e-7\n",
    "\n",
    "    return inter_area / union"
   ]
  },
  {
   "cell_type": "code",
   "execution_count": null,
   "metadata": {},
   "outputs": [],
   "source": [
    "asd = bbox_overlap_iou(a, b)"
   ]
  },
  {
   "cell_type": "code",
   "execution_count": null,
   "metadata": {},
   "outputs": [],
   "source": [
    "with tf.Session() as sess:\n",
    "    zxc = sess.run(asd)"
   ]
  },
  {
   "cell_type": "code",
   "execution_count": null,
   "metadata": {},
   "outputs": [],
   "source": [
    "zxc"
   ]
  },
  {
   "cell_type": "code",
   "execution_count": null,
   "metadata": {},
   "outputs": [],
   "source": []
  }
 ],
 "metadata": {
  "kernelspec": {
   "display_name": "Python 3",
   "language": "python",
   "name": "python3"
  },
  "language_info": {
   "codemirror_mode": {
    "name": "ipython",
    "version": 3
   },
   "file_extension": ".py",
   "mimetype": "text/x-python",
   "name": "python",
   "nbconvert_exporter": "python",
   "pygments_lexer": "ipython3",
   "version": "3.5.2"
  }
 },
 "nbformat": 4,
 "nbformat_minor": 2
}
